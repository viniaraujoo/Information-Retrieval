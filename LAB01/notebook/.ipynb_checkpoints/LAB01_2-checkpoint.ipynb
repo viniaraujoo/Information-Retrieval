{
 "cells": [
  {
   "cell_type": "code",
   "execution_count": 16,
   "metadata": {},
   "outputs": [],
   "source": [
    "import csv\n",
    "import pandas as pd\n",
    "import numpy as np\n",
    "import nltk\n",
    "import re\n",
    "import math\n",
    "from unicodedata import normalize\n",
    "from collections import Counter"
   ]
  },
  {
   "cell_type": "code",
   "execution_count": 17,
   "metadata": {},
   "outputs": [],
   "source": [
    "leitura = pd.read_csv('../data/estadao_noticias_eleicao.csv')\n",
    "leitura = leitura.replace(np.nan, '',regex = True)"
   ]
  },
  {
   "cell_type": "code",
   "execution_count": 18,
   "metadata": {},
   "outputs": [],
   "source": [
    "def text_clear(text):\n",
    "    pattern = re.compile('[^a-zA-Z0-9 ]')\n",
    "    text = normalize('NFKD', text).encode('ASCII', 'ignore').decode('ASCII')\n",
    "    return pattern.sub(' ', text)"
   ]
  },
  {
   "cell_type": "code",
   "execution_count": 19,
   "metadata": {},
   "outputs": [],
   "source": [
    "conteudos = leitura.titulo + \" \" + leitura.subTitulo +  \" \" + leitura.conteudo\n",
    "conteudos  = conteudos .apply(lambda text: \"\" if isinstance(text, float) else text_clear(text).lower())\n",
    "ids = leitura.idNoticia"
   ]
  },
  {
   "cell_type": "code",
   "execution_count": 20,
   "metadata": {},
   "outputs": [],
   "source": [
    "noticias = conteudos.apply(nltk.word_tokenize)\n",
    "freq_term = noticias.apply(Counter)\n"
   ]
  },
  {
   "cell_type": "code",
   "execution_count": 22,
   "metadata": {},
   "outputs": [],
   "source": [
    "index = {}\n",
    "for i in range(len(noticias)):\n",
    "    id_noticia = ids[i]\n",
    "    for palavra in noticias[i]:\n",
    "        palavra = palavra.lower()\n",
    "        if palavra not in index:\n",
    "            index[palavra] = {}\n",
    "        id_rec = index[palavra].get(id_noticia)\n",
    "        \n",
    "        if not id_rec:\n",
    "            docs = index[palavra]\n",
    "            docs[id_noticia] = freq_term[i][palavra]"
   ]
  },
  {
   "cell_type": "code",
   "execution_count": 36,
   "metadata": {},
   "outputs": [],
   "source": [
    "def generator_tf(phase):\n",
    "    term = phase.split(' ')\n",
    "    doc_tf = {}\n",
    "    \n",
    "    for i in range(len(term)):\n",
    "        docs = index[term[i]]\n",
    "        for doc_id in docs:\n",
    "            tf = docs[doc_id]\n",
    "            \n",
    "            if doc_id not in doc_tf:\n",
    "                doc_tf[doc_id] = np.array([0 if j != i else tf for j in range(len(term))])\n",
    "            else:\n",
    "                doc_vector = doc_tf[doc_id]\n",
    "                doc_tf[doc_id] = np.array([doc_vector[j] if j != i else tf for j in range(len(term))])\n",
    "    return doc_tf\n",
    "    "
   ]
  },
  {
   "cell_type": "code",
   "execution_count": 49,
   "metadata": {},
   "outputs": [],
   "source": [
    "def generator_idf(phase):\n",
    "    terms = phase.split(' ')\n",
    "    idf  = np.array([math.log((len(noticias)+1)/len(index[term])) for term in terms])\n",
    "    return idf"
   ]
  },
  {
   "cell_type": "code",
   "execution_count": 41,
   "metadata": {},
   "outputs": [],
   "source": [
    "def generator_query(phase):\n",
    "    terms = phase.split(' ')\n",
    "    query = np.array([1 if index.get(term) else 0 for term in terms])\n",
    "    return query"
   ]
  },
  {
   "cell_type": "code",
   "execution_count": 58,
   "metadata": {},
   "outputs": [],
   "source": [
    "def generato_bm25(phase):\n",
    "    docs_tf = genarator_tf(phase)\n",
    "    k = 5\n",
    "    bm25_vetor = {doc_id: np.array([((k+1)*tf)/(tf+k) for tf in tf_vetor]) for doc_id, tf_vetor in docs_tf.items()}\n",
    "    return bm25_vetor"
   ]
  },
  {
   "cell_type": "code",
   "execution_count": 44,
   "metadata": {},
   "outputs": [],
   "source": [
    "def seach_tf(phase):\n",
    "    docs_tf = generator_tf(phase)\n",
    "    query = generator_query(phase)\n",
    "    doc_rank = sorted(list(docs_tf.items()), key=lambda doc: np.dot(doc[1], query), reverse=True)[:5] \n",
    "    return [doc[0] for doc in doc_rank]"
   ]
  },
  {
   "cell_type": "code",
   "execution_count": 56,
   "metadata": {},
   "outputs": [],
   "source": [
    "def seach_tf_idf(phase):\n",
    "    doc_tf = generator_tf(phase)\n",
    "    doc_idf = generator_idf(phase)\n",
    "    doc_rank = sorted(list(doc_tf.items()), key=lambda doc: np.dot(doc[1], doc_idf), reverse=True)[:5]\n",
    "    return [doc[0] for doc in doc_rank]\n"
   ]
  }
 ],
 "metadata": {
  "kernelspec": {
   "display_name": "Python 3",
   "language": "python",
   "name": "python3"
  },
  "language_info": {
   "codemirror_mode": {
    "name": "ipython",
    "version": 3
   },
   "file_extension": ".py",
   "mimetype": "text/x-python",
   "name": "python",
   "nbconvert_exporter": "python",
   "pygments_lexer": "ipython3",
   "version": "3.6.4"
  }
 },
 "nbformat": 4,
 "nbformat_minor": 2
}

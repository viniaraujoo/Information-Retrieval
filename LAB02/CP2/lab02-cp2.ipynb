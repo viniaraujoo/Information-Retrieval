{
 "cells": [
  {
   "cell_type": "code",
   "execution_count": 1,
   "metadata": {},
   "outputs": [],
   "source": [
    "import pandas as pd\n",
    "import numpy as np"
   ]
  },
  {
   "cell_type": "markdown",
   "metadata": {},
   "source": [
    "# Analise utilizando algorítimo de PageRank.\n",
    "### Autor: Vinicius Brandão Araújo\n",
    "#### Considerando a base de dados referentes as transições de bitcoins entre usuários provindas deste [site](http://snap.stanford.edu/data/soc-sign-bitcoinotc.html). Iremos rank nesse usuário e assim analisar quais os usuário com os maiores valores de pagerank e verificar a importância deste algorítimo para alguns problemas.\n",
    "Para está analise podemos considerar do benefício de pagerank para transições e investimentos em bitcoins."
   ]
  },
  {
   "cell_type": "code",
   "execution_count": 2,
   "metadata": {},
   "outputs": [],
   "source": [
    "leitura = pd.read_csv('data/soc-sign-bitcoinotc.csv')\n"
   ]
  },
  {
   "cell_type": "code",
   "execution_count": 5,
   "metadata": {},
   "outputs": [],
   "source": [
    "filter_leitura = leitura.query('Evaluation >= 8')\n",
    "source = list(filter_leitura.Source)\n",
    "target = list(filter_leitura.Target)\n",
    "nodes = list(set(source).union(set(target)))"
   ]
  },
  {
   "cell_type": "markdown",
   "metadata": {},
   "source": [
    "### Metodo que adiciona caso usuários realizaram transições entre eles."
   ]
  },
  {
   "cell_type": "code",
   "execution_count": 7,
   "metadata": {},
   "outputs": [],
   "source": [
    "adjacente = {no:[] for no in nodes}\n",
    "\n",
    "for i in range(len(source)):\n",
    "    ori = source[i]\n",
    "    dest = target[i]\n",
    "    adjacente[ori].append(dest)\n",
    "\n",
    "\n"
   ]
  },
  {
   "cell_type": "markdown",
   "metadata": {},
   "source": [
    "### Metodo que gera a matriz.\n",
    "Metodo responsavel por gerar a matriz dos elemento considerando quantos links cada elemento possui. "
   ]
  },
  {
   "cell_type": "code",
   "execution_count": 10,
   "metadata": {},
   "outputs": [],
   "source": [
    "a = [[0 for i in range(len(nodes))] for j in range(len(nodes))]\n",
    "\n",
    "for i in range(len(nodes)):\n",
    "    for j in range(len(nodes)):\n",
    "        ori = nodes[i]\n",
    "        dest = nodes[j]\n",
    "        out_degree = len(adjacente[ori])\n",
    "        a[j][i] = 1/out_degree if dest in adjacente[ori] else 0\n",
    "\n",
    "        \n",
    "a = np.matrix(a)\n"
   ]
  },
  {
   "cell_type": "markdown",
   "metadata": {},
   "source": [
    "### Calculo do pagerank considerando a formula.\n",
    "$PR(A) = \\frac{PR(B)}{L(B)} + \\frac{PR(C)}{L(C)} + \\frac{PR(D)}{L(D)}... \\Rightarrow PR(u) = \\sum_{v \\in B_u} \\frac{PR(B(v))}{L(v)}$"
   ]
  },
  {
   "cell_type": "code",
   "execution_count": 11,
   "metadata": {},
   "outputs": [],
   "source": [
    "b = (1/len(nodes)) * np.matrix([[1 for i in range(len(nodes))] for j in range(len(nodes))])"
   ]
  },
  {
   "cell_type": "code",
   "execution_count": 12,
   "metadata": {},
   "outputs": [],
   "source": [
    "m = 0.85 * a + 0.15 * b"
   ]
  },
  {
   "cell_type": "code",
   "execution_count": 13,
   "metadata": {},
   "outputs": [],
   "source": [
    "v = (1/len(nodes)) * np.matrix([[1] for i in range(len(nodes))])"
   ]
  },
  {
   "cell_type": "markdown",
   "metadata": {},
   "source": [
    "### Metodo de calcular as interações do pagerank. "
   ]
  },
  {
   "cell_type": "code",
   "execution_count": 14,
   "metadata": {},
   "outputs": [],
   "source": [
    "count = 0\n",
    "\n",
    "def pagerank(v):\n",
    "    global count\n",
    "    count += 1\n",
    "    \n",
    "    if sum(abs(m*v-v)) > 0.001:\n",
    "        return pagerank(m*v)\n",
    "    return m*v"
   ]
  },
  {
   "cell_type": "code",
   "execution_count": 15,
   "metadata": {},
   "outputs": [],
   "source": [
    "result = pagerank(v)\n",
    "result = [cell.item(0,0) for cell in result]"
   ]
  },
  {
   "cell_type": "markdown",
   "metadata": {},
   "source": [
    "### Reposanvale por gerar o dataframe e converter em csv.\n",
    "Criação do (data) frame para gerar o arquivo csv que foi utilizado para gerar o arquivo do Gephi para gerar o gráfico de visualização do resultado dos usuários baseado em seu pagerank para o tamanho."
   ]
  },
  {
   "cell_type": "code",
   "execution_count": 17,
   "metadata": {},
   "outputs": [],
   "source": [
    "result_data = pd.DataFrame({'id': nodes, 'PageRank': result})"
   ]
  },
  {
   "cell_type": "code",
   "execution_count": 23,
   "metadata": {},
   "outputs": [],
   "source": [
    "result_data.to_csv(path_or_buf='result/result.csv', index=False)\n",
    "filter_leitura.to_csv(path_or_buf='result/filtered-sign-bitcoinotc.csv', columns=['Source', 'Target'], index=False)"
   ]
  },
  {
   "cell_type": "markdown",
   "metadata": {},
   "source": [
    "## Analises de Pesquisas. \n",
    "Analise abaixo se baseia utilizando o algorítimo a cima para realizar o rank em relação ao conjunto de dados deste [site](http://snap.stanford.edu/data/soc-sign-bitcoinotc.html) em relacionados a transição de bitcoins entre os usuário e também considerando apenas usuários com nota maior ou igual a 8. Diante disto colocamos que as seguintes perguntas serão respondidas para esta analise:\n",
    "* Quantas iterações o PageRank precisou rodar até atingir convergência?\n",
    "* Quais os 5 investidores mais importantes segundo o PageRank? Quais seus valores de PageRank?\n",
    "* Como você poderia usar o PageRank caso você fosse um investidor em bitcoins?"
   ]
  },
  {
   "cell_type": "markdown",
   "metadata": {},
   "source": [
    "### Quantas iterações o PageRank precisou rodar até atingir convergência?\n",
    "Utilizando a função pagerank obtivemos o valor de 35, assim consideramos que obteve 35 iterações para atingir a convergência."
   ]
  },
  {
   "cell_type": "markdown",
   "metadata": {},
   "source": [
    "### Quais os 5 investidores mais importantes segundo o PageRank? Quais seus valores de PageRank?\n",
    "Id | PageRank \n",
    "--- | --- \n",
    "0 | 0.000139\n",
    "120| 0.000125\n",
    "94 | 0.000117\n",
    "887| 0.000093\n",
    "182| 0.000092\n"
   ]
  },
  {
   "cell_type": "markdown",
   "metadata": {},
   "source": [
    "### Como você poderia usar o PageRank caso você fosse um investidor em bitcoins?\n",
    "Considerando para analise onde tivemos apenas as transições que considera  apenas os investidores com nota maior que 8, podemos utilizar o pagerank baseando nos investidores mais importantes dado que esses investidores possuem muitas transições têm um alto valor e se está presente no conjunto sua nota obteve maior do que 8 .Consideramos que para não ter risco o uso de pagerank e investir apenas com esses usuários bem avaliados evitando usuários com transições falsas com o usuários."
   ]
  },
  {
   "cell_type": "markdown",
   "metadata": {},
   "source": [
    "## Resultado gerado pelo Gephi.\n",
    "Utilizando este [tutorial](https://searchengineland.com/easy-visualizations-pagerank-page-groups-gephi-265716) como referencia."
   ]
  },
  {
   "cell_type": "markdown",
   "metadata": {},
   "source": [
    "![gephi](img/gephi.JPG)"
   ]
  }
 ],
 "metadata": {
  "kernelspec": {
   "display_name": "Python 3",
   "language": "python",
   "name": "python3"
  },
  "language_info": {
   "codemirror_mode": {
    "name": "ipython",
    "version": 3
   },
   "file_extension": ".py",
   "mimetype": "text/x-python",
   "name": "python",
   "nbconvert_exporter": "python",
   "pygments_lexer": "ipython3",
   "version": "3.6.4"
  }
 },
 "nbformat": 4,
 "nbformat_minor": 2
}
